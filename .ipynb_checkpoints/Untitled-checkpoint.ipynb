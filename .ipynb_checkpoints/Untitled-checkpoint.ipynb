{
 "cells": [
  {
   "cell_type": "code",
   "execution_count": 1,
   "id": "d384bbba",
   "metadata": {},
   "outputs": [],
   "source": [
    "import numpy as np\n",
    "import matplotlib.pyplot as plt"
   ]
  },
  {
   "cell_type": "code",
   "execution_count": 2,
   "id": "627229ba",
   "metadata": {},
   "outputs": [],
   "source": [
    "from fishergw.taylorf2.waveform import CompactObject, TaylorF2, cc\n",
    "from fishergw.taylorf2.fisher import Fisher"
   ]
  },
  {
   "cell_type": "code",
   "execution_count": 3,
   "id": "3acbdfbb",
   "metadata": {},
   "outputs": [],
   "source": [
    "m1, m2 = 1.46, 1.27\n",
    "dL = 40\n",
    "s1, s2 = 0., 0.\n",
    "obj1 = CompactObject(m1,s1,Lamda=199)\n",
    "obj2 = CompactObject(m2,s2,Lamda=474)\n",
    "signal = TaylorF2(obj1,obj2,DL=dL)"
   ]
  },
  {
   "cell_type": "code",
   "execution_count": 8,
   "id": "a7af1e9a",
   "metadata": {},
   "outputs": [
    {
     "name": "stdout",
     "output_type": "stream",
     "text": [
      "CPU times: user 205 ms, sys: 8 µs, total: 205 ms\n",
      "Wall time: 203 ms\n"
     ]
    },
    {
     "data": {
      "text/plain": [
       "605.686847558112"
      ]
     },
     "execution_count": 8,
     "metadata": {},
     "output_type": "execute_result"
    }
   ],
   "source": [
    "%%time\n",
    "fisher = Fisher(signal,detector='ET')\n",
    "fmin = 5\n",
    "fmax = cc/(6**1.5*np.pi*signal.M)\n",
    "snr = fisher.SNR(fmin,fmax,nbins=int(1e4))\n",
    "snr"
   ]
  },
  {
   "cell_type": "code",
   "execution_count": 9,
   "id": "6d496f86",
   "metadata": {},
   "outputs": [
    {
     "name": "stdout",
     "output_type": "stream",
     "text": [
      "CPU times: user 8.64 s, sys: 3.99 ms, total: 8.64 s\n",
      "Wall time: 8.65 s\n"
     ]
    },
    {
     "data": {
      "text/plain": [
       "{'t_c': 3.84566150359527e-05,\n",
       " 'phi_c': 0.027453228020035494,\n",
       " 'M_c': 0.00017436810698560445,\n",
       " 'eta': 2.420386713745543e-05,\n",
       " 'Lamda': 52.779440059284624,\n",
       " 'Lamda_2': 5750.604025080807}"
      ]
     },
     "execution_count": 9,
     "metadata": {},
     "output_type": "execute_result"
    }
   ],
   "source": [
    "%%time\n",
    "keys=['t_c','phi_c','M_c','eta','Lamda','Lamda_2']\n",
    "fisher.FisherMatrix(fmin,fmax,nbins=int(1e4),keys=keys)\n",
    "fisher.CovarianceMatrix()\n",
    "fisher.sigma"
   ]
  },
  {
   "cell_type": "code",
   "execution_count": null,
   "id": "386ed048",
   "metadata": {},
   "outputs": [],
   "source": []
  }
 ],
 "metadata": {
  "kernelspec": {
   "display_name": "Python 3",
   "language": "python",
   "name": "python3"
  },
  "language_info": {
   "codemirror_mode": {
    "name": "ipython",
    "version": 3
   },
   "file_extension": ".py",
   "mimetype": "text/x-python",
   "name": "python",
   "nbconvert_exporter": "python",
   "pygments_lexer": "ipython3",
   "version": "3.8.8"
  }
 },
 "nbformat": 4,
 "nbformat_minor": 5
}
